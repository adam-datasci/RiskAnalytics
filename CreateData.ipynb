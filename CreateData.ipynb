{
 "cells": [
  {
   "cell_type": "code",
   "execution_count": 6,
   "metadata": {},
   "outputs": [],
   "source": [
    "import pandas as pd\n",
    "import numpy as np\n",
    "import os"
   ]
  },
  {
   "cell_type": "code",
   "execution_count": 7,
   "metadata": {},
   "outputs": [],
   "source": [
    "#url = \"https://raw.githubusercontent.com/adam-datasci/RiskAnalytics/main/Data/american_bankruptcy.csv?\"\n",
    "url = \"Data/american_bankruptcy_kaggle.csv\"\n",
    "df = pd.read_csv(url)\n",
    "\n",
    "df = df.rename(columns={'X1':'ca','X2':'cogs','X3':'d_and_a','X4':'ebitda','X5':'inventory','X6':'ni','X7':'ar','X8':'mv','X9':'ns','X10':'ta','X11':'tltd','X12':'ebit','X13':'gp','X14':'cl','X15':'re','X16':'tr','X17':'tl','X18':'toe'})"
   ]
  },
  {
   "cell_type": "code",
   "execution_count": 8,
   "metadata": {},
   "outputs": [],
   "source": [
    "df['te'] = df['ta'] - df['tl']\n",
    "df['wc'] = df['ca'] - df['cl']\n",
    "df['wc_to_ta'] = df['wc'] / df['ta']\n",
    "df['re_to_ta'] = df['re'] / df['ta']\n",
    "df['ebit_to_ta'] = df['ebit'] / df['ta']\n",
    "df['mv_to_tl'] = df['mv'] / df['tl']\n",
    "df['tr_to_ta'] = df['tr'] / df['ta']\n",
    "df['tltd_to_te'] = df['tltd'] / df['te']\n",
    "df['np'] = df['ni']/df['tr']\n",
    "df['ebitda_to_tr'] = df['ebitda'] / df['tr']\n",
    "df['gp_to_tr'] = df['gp'] / df['tr']\n",
    "df['ca_to_cl'] = df['ca'] / df['cl']\n",
    "df['np_to_ta'] = df['np'] / df['ta']\n",
    "\n",
    "\n",
    "df['z_score'] = 1.2*df['wc_to_ta'] + 1.4*df['re_to_ta'] + 3.3*df['ebit_to_ta'] + 0.6*df['mv_to_tl'] + 1.0*df['tr_to_ta']\n",
    "\n",
    "df['latest_period'] = df['year'] == df.groupby('company_name')['year'].transform('max')\n",
    "df['latest_period'] = df['latest_period'].astype(int)\n",
    "\n",
    "condition = (df['latest_period'] == 1) & (df['status_label'] == 'failed')\n",
    "df['default'] = np.where(condition, 1, 0)\n"
   ]
  },
  {
   "cell_type": "code",
   "execution_count": 9,
   "metadata": {},
   "outputs": [],
   "source": [
    "features = ['wc_to_ta', 're_to_ta', 'ebit_to_ta', 'mv_to_tl', 'tr_to_ta', 'tltd_to_te', 'np', 'ebitda_to_tr', 'gp_to_tr', 'ca_to_cl', 'np_to_ta']\n",
    "\n",
    "for column in features:\n",
    "    df[column + '_pct'] = df[column].rank(method='min', pct=True)"
   ]
  },
  {
   "cell_type": "code",
   "execution_count": 10,
   "metadata": {},
   "outputs": [],
   "source": [
    "df.to_csv('Data/american_bankruptcy_normalized.csv', index=False)"
   ]
  },
  {
   "cell_type": "code",
   "execution_count": null,
   "metadata": {},
   "outputs": [],
   "source": []
  }
 ],
 "metadata": {
  "kernelspec": {
   "display_name": "main",
   "language": "python",
   "name": "python3"
  },
  "language_info": {
   "codemirror_mode": {
    "name": "ipython",
    "version": 3
   },
   "file_extension": ".py",
   "mimetype": "text/x-python",
   "name": "python",
   "nbconvert_exporter": "python",
   "pygments_lexer": "ipython3",
   "version": "3.11.8"
  }
 },
 "nbformat": 4,
 "nbformat_minor": 2
}
